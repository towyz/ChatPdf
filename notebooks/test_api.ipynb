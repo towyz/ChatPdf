{
 "cells": [
  {
   "cell_type": "code",
   "execution_count": 24,
   "metadata": {},
   "outputs": [],
   "source": [
    "import requests\n",
    "import os\n",
    "import json\n",
    "import time"
   ]
  },
  {
   "cell_type": "markdown",
   "metadata": {},
   "source": [
    "1. Add PDF via File Upload"
   ]
  },
  {
   "cell_type": "code",
   "execution_count": 29,
   "metadata": {},
   "outputs": [
    {
     "name": "stdout",
     "output_type": "stream",
     "text": [
      "Source ID: src_sLtxyrqYIpnJBIMz2TUX7\n"
     ]
    }
   ],
   "source": [
    "def record_pdf_source(source_id):\n",
    "    \"\"\"Record the pdf source id in the json file.\"\"\"\n",
    "    output_dir = \"../settings\"\n",
    "    listdir = os.listdir(output_dir)\n",
    "\n",
    "    if \"pdf_source.json\" in listdir:\n",
    "        fr = open(os.path.join(output_dir, \"pdf_source.json\"))  # a represents append\n",
    "        model = json.load(fr)\n",
    "        fr.close()\n",
    "\n",
    "        for i in source_id:\n",
    "            model[i] = source_id[i]\n",
    "        jsObj = json.dumps(model)\n",
    "\n",
    "        with open(\n",
    "            os.path.join(output_dir, \"pdf_source.json\"), \"w\"\n",
    "        ) as fw:  # w represents override\n",
    "            fw.write(jsObj)\n",
    "\n",
    "\n",
    "# 数据准备\n",
    "with open(os.path.join(os.path.abspath(\".\"), \"..\", \"settings\", \"API_KEYS.json\")) as f:\n",
    "    api_key = json.load(f)[\"ChatPDF_API\"]\n",
    "\n",
    "# ------------------------上传 pdf 文件-------------------------------------\n",
    "path_to_pdf = \"D://4A\\！美赛\\ICM//2021\\D//2106028.pdf\"\n",
    "# path_to_pdf = input()\n",
    "\n",
    "headers = {\"x-api-key\": api_key}\n",
    "files = [(\"file\", (\"file\", open(path_to_pdf, \"rb\"), \"application/octet-stream\"))]\n",
    "\n",
    "response = requests.post(\n",
    "    \"https://api.chatpdf.com/v1/sources/add-file\", headers=headers, files=files\n",
    ")\n",
    "\n",
    "if response.status_code == 200:\n",
    "    print(\"Source ID:\", response.json()[\"sourceId\"])\n",
    "    # store the source id in the json file\n",
    "    source_id = {response.json()[\"sourceId\"]: path_to_pdf}\n",
    "    record_pdf_source(source_id)\n",
    "\n",
    "    # create a history file to store the chatting history\n",
    "    output_dir = \"../history\"\n",
    "    listdir = os.listdir(output_dir)\n",
    "    if str(response.json()[\"sourceId\"]) + \".json\" not in listdir:\n",
    "        with open(\n",
    "            os.path.join(output_dir, str(response.json()[\"sourceId\"]) + \".json\"), \"w\"\n",
    "        ) as f:\n",
    "            f.write(\"{}\")\n",
    "else:\n",
    "    print(\"Status:\", response.status_code)\n",
    "    print(\"Error:\", response.text)"
   ]
  },
  {
   "cell_type": "markdown",
   "metadata": {},
   "source": [
    "2. Chat with PDF"
   ]
  },
  {
   "cell_type": "code",
   "execution_count": 30,
   "metadata": {},
   "outputs": [
    {
     "name": "stdout",
     "output_type": "stream",
     "text": [
      "Result: 这篇文章的建模思路主要是基于社交网络分析和统计方法，通过构建音乐影响网络、分析音乐特征、研究音乐流派的关系和发展、探索音乐革命的信号和先驱者、以及研究动态影响者等方面，来探究音乐对社会的影响。文章还提到了一些模型的优点和缺点，如数据不足、间接音乐影响的简化等问题。文章通过实验和数据分析来检验模型的有效性和可靠性。\n"
     ]
    }
   ],
   "source": [
    "with open(os.path.join(os.path.abspath(\".\"), \"..\", \"settings\", \"API_KEYS.json\")) as f:\n",
    "    api_key = json.load(f)[\"ChatPDF_API\"]\n",
    "sourceId = \"src_sLtxyrqYIpnJBIMz2TUX7\"\n",
    "\n",
    "headers = {\n",
    "    \"x-api-key\": api_key,\n",
    "    \"Content-Type\": \"application/json\",\n",
    "}\n",
    "\n",
    "message = {\n",
    "    \"role\": \"user\",\n",
    "    \"content\": \"请用中文回答：这篇文章的建模的思路是怎么样的？又是如何检验模型的？\",\n",
    "}\n",
    "\n",
    "data = {\n",
    "    \"sourceId\": sourceId,\n",
    "    \"messages\": [message],\n",
    "}\n",
    "\n",
    "response = requests.post(\n",
    "    \"https://api.chatpdf.com/v1/chats/message\", headers=headers, json=data\n",
    ")\n",
    "\n",
    "if response.status_code == 200:\n",
    "    print(\"Result:\", response.json()[\"content\"])\n",
    "\n",
    "    # store the history of chatting\n",
    "    output_dir = \"../history\"\n",
    "    listdir = os.listdir(output_dir)\n",
    "    if str(sourceId) + \".json\" in listdir:\n",
    "        with open(os.path.join(output_dir, str(sourceId) + \".json\"), \"r\") as f:\n",
    "            model = json.load(f)\n",
    "\n",
    "        temp_msg = {}\n",
    "        temp_msg[\"user\"] = message[\"content\"]\n",
    "        temp_msg[\"assistant\"] = response.json()[\"content\"]\n",
    "\n",
    "        current_time = time.strftime(\"%Y-%m-%d %H:%M:%S\", time.localtime())\n",
    "\n",
    "        model[current_time] = temp_msg\n",
    "        jsObj = json.dumps(model)\n",
    "\n",
    "        with open(\n",
    "            os.path.join(output_dir, str(sourceId) + \".json\"), \"w\"\n",
    "        ) as fw:  # w: override\n",
    "            fw.write(jsObj)\n",
    "else:\n",
    "    print(\"Status:\", response.status_code)\n",
    "    print(\"Error:\", response.text)"
   ]
  }
 ],
 "metadata": {
  "kernelspec": {
   "display_name": "my3b",
   "language": "python",
   "name": "python3"
  },
  "language_info": {
   "codemirror_mode": {
    "name": "ipython",
    "version": 3
   },
   "file_extension": ".py",
   "mimetype": "text/x-python",
   "name": "python",
   "nbconvert_exporter": "python",
   "pygments_lexer": "ipython3",
   "version": "3.9.13"
  }
 },
 "nbformat": 4,
 "nbformat_minor": 2
}
